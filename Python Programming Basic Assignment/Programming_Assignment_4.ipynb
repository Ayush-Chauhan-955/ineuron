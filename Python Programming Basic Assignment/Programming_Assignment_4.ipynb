{
 "cells": [
  {
   "cell_type": "markdown",
   "id": "documented-graphic",
   "metadata": {},
   "source": [
    "### 1. Write a Python Program to Find the Factorial of a Number?"
   ]
  },
  {
   "cell_type": "code",
   "execution_count": 20,
   "id": "under-pleasure",
   "metadata": {},
   "outputs": [
    {
     "name": "stdout",
     "output_type": "stream",
     "text": [
      "Enter the number for the factorial. -> 9\n",
      "The factorial of 9 is 362880\n"
     ]
    }
   ],
   "source": [
    "num = int(input('Enter the number for the factorial. -> '))\n",
    "def factorial(x):\n",
    "    if x==1:\n",
    "        return 1\n",
    "    else :\n",
    "        return x*factorial(x-1)\n",
    "print(\"The factorial of\", num, \"is\", factorial(num))"
   ]
  },
  {
   "cell_type": "markdown",
   "id": "exterior-illinois",
   "metadata": {},
   "source": [
    "### 2. Write a Python Program to Display the multiplication Table?"
   ]
  },
  {
   "cell_type": "code",
   "execution_count": 21,
   "id": "helpful-marshall",
   "metadata": {},
   "outputs": [
    {
     "name": "stdout",
     "output_type": "stream",
     "text": [
      "Enter the number for the multiplication Table. ->  20\n",
      "-*-*-*-*-*-*-*-*-*-*-*-*-*-*-*-*-*-*-*-*\n",
      "\n",
      "      20  *  1  =  20\n",
      "      20  *  2  =  40\n",
      "      20  *  3  =  60\n",
      "      20  *  4  =  80\n",
      "      20  *  5  =  100\n",
      "      20  *  6  =  120\n",
      "      20  *  7  =  140\n",
      "      20  *  8  =  160\n",
      "      20  *  9  =  180\n",
      "      20  *  10  =  200\n"
     ]
    }
   ],
   "source": [
    "user_int = input('Enter the number for the multiplication Table. ->  ')\n",
    "if user_int.isdigit():\n",
    "    print(f\"{'-*'*20}\\n\")\n",
    "    for i in range(1,11):\n",
    "        print(f'{\" \"*5} {user_int}  *  {i}  =  {int(user_int)*i}')\n",
    "else:\n",
    "    print('\\n************** Enter a valid input ********************')"
   ]
  },
  {
   "cell_type": "markdown",
   "id": "regulation-guest",
   "metadata": {},
   "source": [
    "### 3. Write a Python Program to Print the Fibonacci sequence?"
   ]
  },
  {
   "cell_type": "code",
   "execution_count": 22,
   "id": "willing-psychiatry",
   "metadata": {},
   "outputs": [
    {
     "name": "stdout",
     "output_type": "stream",
     "text": [
      "How many terms? 9\n",
      "Fibonacci sequence:\n",
      "0\n",
      "1\n",
      "1\n",
      "2\n",
      "3\n",
      "5\n",
      "8\n",
      "13\n",
      "21\n"
     ]
    }
   ],
   "source": [
    "#user input\n",
    "user_inp = int(input(\"How many terms? \"))\n",
    "# creating a function fibo\n",
    "def fibo(x):\n",
    "    a,b=0,1\n",
    "    print(\"Fibonacci sequence:\")\n",
    "    for i in range(x):\n",
    "        print(a)\n",
    "        a,b = b,a+b\n",
    "        \n",
    "\n",
    "if user_inp <= 0:\n",
    "   print(\"Please enter a positive integer\")\n",
    "else:\n",
    "    fibo(user_inp)"
   ]
  },
  {
   "cell_type": "markdown",
   "id": "reported-henry",
   "metadata": {},
   "source": [
    "### 4. Write a Python Program to Check Armstrong Number?"
   ]
  },
  {
   "cell_type": "code",
   "execution_count": 24,
   "id": "realistic-hours",
   "metadata": {},
   "outputs": [
    {
     "name": "stdout",
     "output_type": "stream",
     "text": [
      "Enter a number: 1889\n",
      "1889 is not an Armstrong number\n"
     ]
    }
   ],
   "source": [
    "# Python program to check if the number is an Armstrong number or not\n",
    "\n",
    "# take input from the user\n",
    "num = int(input(\"Enter a number: \"))\n",
    "sum = 0\n",
    "temp = num\n",
    "while temp > 0:\n",
    "    digit = temp % 10\n",
    "    sum  +=  digit** len(str(num))\n",
    "    temp //=10\n",
    "# display the result\n",
    "if num == sum:\n",
    "   print(num,\"is an Armstrong number\")\n",
    "else:\n",
    "   print(num,\"is not an Armstrong number\")\n",
    "    "
   ]
  },
  {
   "cell_type": "markdown",
   "id": "appreciated-controversy",
   "metadata": {},
   "source": [
    "### 5. Write a Python Program to Find Armstrong Number in an Interval?"
   ]
  },
  {
   "cell_type": "code",
   "execution_count": 25,
   "id": "departmental-fountain",
   "metadata": {},
   "outputs": [
    {
     "name": "stdout",
     "output_type": "stream",
     "text": [
      "Enter an interval \n",
      "  example of valid input -->  230,450         1,1000\n",
      "1,2,3,4,5,6,7,8,9,153,370,371,407,"
     ]
    }
   ],
   "source": [
    "# user input as interval\n",
    "user_inp = input(\"Enter an interval \\n  example of valid input -->  230,450         \").split(',')\n",
    "num1,num2 = int(user_inp[0]),int(user_inp[1])\n",
    "for i in range(num1,num2+1):\n",
    "    sum = 0\n",
    "    temp = i\n",
    "    while temp > 0:\n",
    "        digit = temp % 10\n",
    "        sum  +=  digit** len(str(i))\n",
    "        temp //=10\n",
    "    if i==sum:\n",
    "        print(i,end=',')\n",
    "    "
   ]
  },
  {
   "cell_type": "markdown",
   "id": "reserved-listening",
   "metadata": {},
   "source": [
    "### 6. Write a Python Program to Find the Sum of Natural Numbers?"
   ]
  },
  {
   "cell_type": "code",
   "execution_count": 26,
   "id": "accepted-sharp",
   "metadata": {},
   "outputs": [
    {
     "name": "stdout",
     "output_type": "stream",
     "text": [
      "Enter a number: 199\n",
      "The sum is 19900\n"
     ]
    }
   ],
   "source": [
    "# take input from the user\n",
    "num = int(input(\"Enter a number: \"))\n",
    "\n",
    "if num < 0:\n",
    "    print(\"Enter a positive number\")\n",
    "else:\n",
    "    sum = 0\n",
    "    for i in range(1,num+1):\n",
    "        sum += i\n",
    "    print(\"The sum is\", sum)"
   ]
  }
 ],
 "metadata": {
  "kernelspec": {
   "display_name": "Python 3",
   "language": "python",
   "name": "python3"
  },
  "language_info": {
   "codemirror_mode": {
    "name": "ipython",
    "version": 3
   },
   "file_extension": ".py",
   "mimetype": "text/x-python",
   "name": "python",
   "nbconvert_exporter": "python",
   "pygments_lexer": "ipython3",
   "version": "3.8.5"
  }
 },
 "nbformat": 4,
 "nbformat_minor": 5
}
