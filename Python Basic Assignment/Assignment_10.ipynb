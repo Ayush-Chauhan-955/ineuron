{
 "cells": [
  {
   "cell_type": "markdown",
   "id": "99333528",
   "metadata": {},
   "source": [
    "### 1. How do you distinguish between shutil.copy() and shutil.copytree()?"
   ]
  },
  {
   "cell_type": "markdown",
   "id": "f1c88605",
   "metadata": {},
   "source": [
    "     shutil.copytree() will copy entire folder like branchers of trees (all files in it)\n",
    "     whereas shutil.copy() will copy only single folder"
   ]
  },
  {
   "cell_type": "markdown",
   "id": "17973b78",
   "metadata": {},
   "source": [
    "### 2. What function is used to rename files??"
   ]
  },
  {
   "cell_type": "markdown",
   "id": "be7e423e",
   "metadata": {},
   "source": [
    "    First import os module then use os.rename() to rename a file."
   ]
  },
  {
   "cell_type": "markdown",
   "id": "a4cf439a",
   "metadata": {},
   "source": [
    "### 3. What is the difference between the delete functions in the send2trash and shutil modules?"
   ]
  },
  {
   "cell_type": "markdown",
   "id": "35492b11",
   "metadata": {},
   "source": [
    "    send2trash sends file to recycle bin and shutil module deletes file permanantly."
   ]
  },
  {
   "cell_type": "markdown",
   "id": "a511a1c0",
   "metadata": {},
   "source": [
    "### 4.ZipFile objects have a close() method just like File objects’ close() method. What ZipFile method is equivalent to File objects’ open() method?"
   ]
  },
  {
   "cell_type": "markdown",
   "id": "fd746cae",
   "metadata": {},
   "source": [
    "    to open or write to a zipfile we use 'w' as second argument similar to file objects open()"
   ]
  },
  {
   "cell_type": "code",
   "execution_count": 4,
   "id": "10df1cb8",
   "metadata": {},
   "outputs": [],
   "source": [
    "import zipfile as zf\n",
    "a = zf.ZipFile(\"abc.zip\",'w')\n",
    "a.close()"
   ]
  },
  {
   "cell_type": "markdown",
   "id": "e6d7af25",
   "metadata": {},
   "source": [
    "### 5. Create a programme that searches a folder tree for files with a certain file extension (such as .pdf or .jpg). Copy these files from whatever location they are in to a new folder."
   ]
  },
  {
   "cell_type": "code",
   "execution_count": 5,
   "id": "608daf12",
   "metadata": {},
   "outputs": [],
   "source": [
    "import os\n",
    "import shutil"
   ]
  },
  {
   "cell_type": "code",
   "execution_count": 18,
   "id": "4f1dc973",
   "metadata": {},
   "outputs": [
    {
     "name": "stdout",
     "output_type": "stream",
     "text": [
      "searching --> E:\\data science\\ineuron full stack DS\\Assignments\\Python Basic Assignments\\randomfolder for ['.pdf', '.jpg'] file\n",
      "Coping E:\\data science\\ineuron full stack DS\\Assignments\\Python Basic Assignments\\randomfolder\\Rushikesh_M_Pokale.pdf to E:\\data science\\ineuron full stack DS\\Assignments\\Python Basic Assignments\\destination\n"
     ]
    }
   ],
   "source": [
    "import os, shutil\n",
    "\n",
    "def search_and_copy(folder, extensions, destFolder):\n",
    "    folder = os.path.abspath(folder)\n",
    "    destFolder = os.path.abspath(destFolder)\n",
    "    print('searching --> {} for {} file'.format(folder,extensions))\n",
    "    for foldername, subfolders, filenames in os.walk(folder):\n",
    "        for filename in filenames:\n",
    "            name, extension = os.path.splitext(filename)\n",
    "            if extension in extensions:\n",
    "                fileAbsPath = foldername + os.path.sep + filename\n",
    "                print('Coping', fileAbsPath, 'to', destFolder)\n",
    "                shutil.copy(fileAbsPath, destFolder)\n",
    "\n",
    "extensions = ['.pdf','.jpg']\n",
    "folder = 'randomfolder'\n",
    "destFolder = 'destination'\n",
    "search_and_copy(folder, extensions, destFolder)"
   ]
  }
 ],
 "metadata": {
  "kernelspec": {
   "display_name": "Python 3",
   "language": "python",
   "name": "python3"
  },
  "language_info": {
   "codemirror_mode": {
    "name": "ipython",
    "version": 3
   },
   "file_extension": ".py",
   "mimetype": "text/x-python",
   "name": "python",
   "nbconvert_exporter": "python",
   "pygments_lexer": "ipython3",
   "version": "3.8.5"
  }
 },
 "nbformat": 4,
 "nbformat_minor": 5
}
