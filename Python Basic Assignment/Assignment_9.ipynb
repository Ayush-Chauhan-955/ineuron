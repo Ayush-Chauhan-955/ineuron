{
 "cells": [
  {
   "cell_type": "markdown",
   "id": "f594c2cd",
   "metadata": {},
   "source": [
    "### 1. To what does a relative path refer?"
   ]
  },
  {
   "cell_type": "markdown",
   "id": "c679a636",
   "metadata": {},
   "source": [
    "    relative path shows current working directory path\n",
    "    for me it is: Python Basic Assignments\\Assignment_9.ipynb"
   ]
  },
  {
   "cell_type": "code",
   "execution_count": 16,
   "id": "3849d025",
   "metadata": {},
   "outputs": [
    {
     "data": {
      "text/plain": [
       "'..\\\\PythonBasicAssignments\\\\Assignment_p.ipynb'"
      ]
     },
     "execution_count": 16,
     "metadata": {},
     "output_type": "execute_result"
    }
   ],
   "source": [
    "import os\n",
    "path = 'E:\\data science\\ineuron full stack DS\\Assignments\\PythonBasicAssignments\\Assignment_p.ipynb'\n",
    "os.path.relpath(path)\n"
   ]
  },
  {
   "cell_type": "markdown",
   "id": "9f0d51f7",
   "metadata": {},
   "source": [
    "### 2. What does an absolute path start with your operating system?"
   ]
  },
  {
   "cell_type": "markdown",
   "id": "5a3a94d8",
   "metadata": {},
   "source": [
    "    absolute path = pwd + relative path\n",
    "    absolute path always starts with rootdi directory\n"
   ]
  },
  {
   "cell_type": "code",
   "execution_count": 17,
   "id": "31ccf5cc",
   "metadata": {},
   "outputs": [
    {
     "data": {
      "text/plain": [
       "'E:\\\\data science\\\\ineuron full stack DS\\\\Assignments\\\\PythonBasicAssignments\\\\Assignment_p.ipynb'"
      ]
     },
     "execution_count": 17,
     "metadata": {},
     "output_type": "execute_result"
    }
   ],
   "source": [
    "os.path.abspath(path)"
   ]
  },
  {
   "cell_type": "markdown",
   "id": "c964a1fa",
   "metadata": {},
   "source": [
    "### 3. What do the functions os.getcwd() and os.chdir() do?"
   ]
  },
  {
   "cell_type": "markdown",
   "id": "40fd1c6c",
   "metadata": {},
   "source": [
    "    os.chdir() performs change directory\n",
    "    os.getcwd() gives current working directory"
   ]
  },
  {
   "cell_type": "markdown",
   "id": "1b59e9df",
   "metadata": {},
   "source": [
    "### 4. What are the . and .. folders?"
   ]
  },
  {
   "cell_type": "markdown",
   "id": "25fe3635",
   "metadata": {},
   "source": [
    "    these are not real folder but are special names for path\n",
    "        (.) = this directory\n",
    "        (..)= parent directory"
   ]
  },
  {
   "cell_type": "markdown",
   "id": "d19ee4ab",
   "metadata": {},
   "source": [
    "### 5. In C:\\bacon\\eggs\\spam.txt, which part is the dir name, and which part is the base name?"
   ]
  },
  {
   "cell_type": "markdown",
   "id": "158faacc",
   "metadata": {},
   "source": [
    "    C:\\bacon\\eggs --> dir name\n",
    "    \n",
    "    spam.txt --> base name"
   ]
  },
  {
   "cell_type": "markdown",
   "id": "ebb9fb9a",
   "metadata": {},
   "source": [
    "### 6. What are the three “mode” arguments that can be passed to the open() function?"
   ]
  },
  {
   "cell_type": "markdown",
   "id": "534419fc",
   "metadata": {},
   "source": [
    "    Three mode arguments are:\n",
    "        1. 'r' --> open for reading in text mode.\n",
    "        2. 'w' --> open for writing.\n",
    "        3. 'a' --> open for appending.\n",
    "        "
   ]
  },
  {
   "cell_type": "markdown",
   "id": "2623ec75",
   "metadata": {},
   "source": [
    "### 7. What happens if an existing file is opened in write mode?"
   ]
  },
  {
   "cell_type": "markdown",
   "id": "e2747ecc",
   "metadata": {},
   "source": [
    "    when an existing file is opened in write mode previous content is erased and file is treated as \n",
    "    new empty file."
   ]
  },
  {
   "cell_type": "markdown",
   "id": "3b77e3aa",
   "metadata": {},
   "source": [
    "### 8. How do you tell the difference between read() and readlines()?"
   ]
  },
  {
   "cell_type": "markdown",
   "id": "4570d270",
   "metadata": {},
   "source": [
    "    read()      --> it iterates over each character.\n",
    "    readlines() --> read only single line of the file."
   ]
  },
  {
   "cell_type": "markdown",
   "id": "bab31fc3",
   "metadata": {},
   "source": [
    "### 9. What data structure does a shelf value resemble?"
   ]
  },
  {
   "cell_type": "markdown",
   "id": "776d0f1f",
   "metadata": {},
   "source": [
    "    As it contains key and values it represents dictionary."
   ]
  }
 ],
 "metadata": {
  "kernelspec": {
   "display_name": "Python 3",
   "language": "python",
   "name": "python3"
  },
  "language_info": {
   "codemirror_mode": {
    "name": "ipython",
    "version": 3
   },
   "file_extension": ".py",
   "mimetype": "text/x-python",
   "name": "python",
   "nbconvert_exporter": "python",
   "pygments_lexer": "ipython3",
   "version": "3.8.5"
  }
 },
 "nbformat": 4,
 "nbformat_minor": 5
}
