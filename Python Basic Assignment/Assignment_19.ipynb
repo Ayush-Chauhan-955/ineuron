{
 "cells": [
  {
   "cell_type": "markdown",
   "id": "ec50138f",
   "metadata": {},
   "source": [
    "### 1. Make a class called Thing with no contents and print it. Then, create an object called example from this class and also print it. Are the printed values the same or different?"
   ]
  },
  {
   "cell_type": "code",
   "execution_count": 1,
   "id": "909b2524",
   "metadata": {},
   "outputs": [],
   "source": [
    "class thing:\n",
    "    pass"
   ]
  },
  {
   "cell_type": "code",
   "execution_count": 7,
   "id": "32e26c12",
   "metadata": {},
   "outputs": [],
   "source": [
    "class example(thing):\n",
    "    pass"
   ]
  },
  {
   "cell_type": "code",
   "execution_count": 8,
   "id": "8c272d6f",
   "metadata": {},
   "outputs": [
    {
     "data": {
      "text/plain": [
       "__main__.example"
      ]
     },
     "execution_count": 8,
     "metadata": {},
     "output_type": "execute_result"
    }
   ],
   "source": [
    "example"
   ]
  },
  {
   "cell_type": "code",
   "execution_count": 10,
   "id": "3aa912f2",
   "metadata": {},
   "outputs": [
    {
     "data": {
      "text/plain": [
       "__main__.thing"
      ]
     },
     "execution_count": 10,
     "metadata": {},
     "output_type": "execute_result"
    }
   ],
   "source": [
    "thing"
   ]
  },
  {
   "cell_type": "markdown",
   "id": "34a82d2b",
   "metadata": {},
   "source": [
    "### 2. Create a new class called Thing2 and add the value &#39;abc&#39; to the letters class attribute. Letters should be printed."
   ]
  },
  {
   "cell_type": "code",
   "execution_count": 11,
   "id": "c10998a2",
   "metadata": {},
   "outputs": [],
   "source": [
    "class thing2:\n",
    "    letters = 'abc'"
   ]
  },
  {
   "cell_type": "code",
   "execution_count": 13,
   "id": "421c75c5",
   "metadata": {},
   "outputs": [
    {
     "data": {
      "text/plain": [
       "'abc'"
      ]
     },
     "execution_count": 13,
     "metadata": {},
     "output_type": "execute_result"
    }
   ],
   "source": [
    "thing2.letters"
   ]
  },
  {
   "cell_type": "markdown",
   "id": "a6b39583",
   "metadata": {},
   "source": [
    "### 3. Make yet another class called, of course, Thing3. This time, assign the value &#39;xyz&#39; to an instance (object) attribute called letters. Print letters. Do you need to make an object from the class to do this?"
   ]
  },
  {
   "cell_type": "code",
   "execution_count": 14,
   "id": "cf49518d",
   "metadata": {},
   "outputs": [],
   "source": [
    "class things3:\n",
    "    letters = 'xyz'\n",
    "    "
   ]
  },
  {
   "cell_type": "code",
   "execution_count": 19,
   "id": "e9859015",
   "metadata": {},
   "outputs": [
    {
     "data": {
      "text/plain": [
       "'xyz'"
      ]
     },
     "execution_count": 19,
     "metadata": {},
     "output_type": "execute_result"
    }
   ],
   "source": [
    "things3.letters"
   ]
  },
  {
   "cell_type": "markdown",
   "id": "61ed0d39",
   "metadata": {},
   "source": [
    "### 4. Create an Element class with the instance attributes name, symbol, and number. Create a class object with the values &#39;Hydrogen,&#39; &#39;H,&#39; and 1."
   ]
  },
  {
   "cell_type": "code",
   "execution_count": 48,
   "id": "1648ee37",
   "metadata": {},
   "outputs": [
    {
     "name": "stdout",
     "output_type": "stream",
     "text": [
      "\n",
      " name: hydrogen \n",
      " symbol: H \n",
      " number: 1\n",
      "<__main__.element object at 0x000001EFC189D820>\n"
     ]
    }
   ],
   "source": [
    "class element:\n",
    "    def __init__(self,name,symbol,number):\n",
    "        self.name = name\n",
    "        self.symbol = symbol\n",
    "        self.number = number\n",
    "        print(\"\\n name: {} \\n symbol: {} \\n number: {}\".format(self.name,self.symbol,self.number))\n",
    "    \n",
    "    \n",
    "ele = element('hydrogen', 'H', 1)\n",
    "print(ele)\n",
    "    "
   ]
  },
  {
   "cell_type": "markdown",
   "id": "a4110365",
   "metadata": {},
   "source": [
    "### 5. Make a dictionary with these keys and values: &#39;name&#39;: &#39;Hydrogen&#39;, &#39;symbol&#39;: &#39;H&#39;, &#39;number&#39;: 1. Then, create an object called hydrogen from class Element using this dictionary."
   ]
  },
  {
   "cell_type": "code",
   "execution_count": 38,
   "id": "f802638b",
   "metadata": {},
   "outputs": [
    {
     "name": "stdout",
     "output_type": "stream",
     "text": [
      "\n",
      " name: Hydrogen \n",
      " symbol: H \n",
      " number: 1\n",
      "<__main__.element object at 0x000001EFC189DAF0>\n"
     ]
    }
   ],
   "source": [
    "ele_dict = {'name': 'Hydrogen', 'symbol': 'H', 'number': 1}\n",
    "\n",
    "hydrogen = element(**ele_dict) #single * gives key, ** gives values\n",
    "print(hydrogen)\n",
    "    "
   ]
  },
  {
   "cell_type": "markdown",
   "id": "e16f6c5a",
   "metadata": {},
   "source": [
    "### 6. For the Element class, define a method called dump() that prints the values of the object’s attributes (name, symbol, and number). Create the hydrogen object from this new definition and use dump() to print its attributes."
   ]
  },
  {
   "cell_type": "code",
   "execution_count": 46,
   "id": "99eba578",
   "metadata": {},
   "outputs": [],
   "source": [
    "class element:\n",
    "    def __init__(self,name,symbol,number):\n",
    "        self.name = name\n",
    "        self.symbol = symbol\n",
    "        self.number = number\n",
    "    \n",
    "    def dump(self):\n",
    "        print(self.name,self.symbol,self.number)\n"
   ]
  },
  {
   "cell_type": "code",
   "execution_count": 47,
   "id": "47c4824b",
   "metadata": {},
   "outputs": [
    {
     "name": "stdout",
     "output_type": "stream",
     "text": [
      "hydrogen H 1\n"
     ]
    }
   ],
   "source": [
    "hydrogen = element('hydrogen', 'H', 1)\n",
    "hydrogen.dump()"
   ]
  },
  {
   "cell_type": "markdown",
   "id": "58099c1d",
   "metadata": {},
   "source": [
    "### 7. Call print(hydrogen). In the definition of Element, change the name of method dump to __str__, create a new hydrogen object, and call print(hydrogen) again."
   ]
  },
  {
   "cell_type": "code",
   "execution_count": 49,
   "id": "90ca663c",
   "metadata": {},
   "outputs": [
    {
     "name": "stdout",
     "output_type": "stream",
     "text": [
      "\n",
      " name: hydrogen \n",
      " symbol: H \n",
      " number: 1\n"
     ]
    }
   ],
   "source": [
    "class element:\n",
    "    def __init__(self,name,symbol,number):\n",
    "        self.name = name\n",
    "        self.symbol = symbol\n",
    "        self.number = number\n",
    "        \n",
    "    \n",
    "    def __str__(self):\n",
    "        return \"\\n name: {} \\n symbol: {} \\n number: {}\".format(self.name,self.symbol,self.number)\n",
    "\n",
    "hydrogen = element('hydrogen', 'H', 1)\n",
    "print(hydrogen)"
   ]
  },
  {
   "cell_type": "markdown",
   "id": "3e381d54",
   "metadata": {},
   "source": [
    "### 8. Modify Element to make the attributes name, symbol, and number private. Define a getter property for each to return its value."
   ]
  },
  {
   "cell_type": "code",
   "execution_count": 52,
   "id": "833ef84c",
   "metadata": {},
   "outputs": [
    {
     "name": "stdout",
     "output_type": "stream",
     "text": [
      "rushikesh\n",
      "rmp\n",
      "91\n"
     ]
    }
   ],
   "source": [
    "class element:\n",
    "    def __init__(self,name,symbol,number):\n",
    "        self.name = name\n",
    "        self.symbol = symbol\n",
    "        self.number = number\n",
    "    \n",
    "    def name(self):\n",
    "        return self.__name\n",
    "    \n",
    "    def symbol(self):\n",
    "        return self.__symbol\n",
    "    \n",
    "    def number(self):\n",
    "        return self.__number\n",
    "\n",
    "ele = element(\"rushikesh\",\"rmp\", '91')\n",
    "\n",
    "print(ele.name+\"\\n\"+ele.symbol+\"\\n\"+ele.number )"
   ]
  },
  {
   "cell_type": "markdown",
   "id": "438470c2",
   "metadata": {},
   "source": [
    "### 9. Define three classes: Bear, Rabbit, and Octothorpe. For each, define only one method: eats(). This should return &#39;berries&#39; (Bear), &#39;clover&#39; (Rabbit), or &#39;campers&#39; (Octothorpe). Create one object from each and print what it eats."
   ]
  },
  {
   "cell_type": "code",
   "execution_count": 53,
   "id": "605ed675",
   "metadata": {},
   "outputs": [],
   "source": [
    "class bear:\n",
    "    def eat(self):\n",
    "        return \"berries\"\n",
    "\n",
    "class rabbit:\n",
    "    def eat(self):\n",
    "        return \"clover\"\n",
    "\n",
    "class octothorpe:\n",
    "    def eat(self):\n",
    "        return \"campers\"\n"
   ]
  },
  {
   "cell_type": "code",
   "execution_count": 54,
   "id": "4ec10b82",
   "metadata": {},
   "outputs": [
    {
     "name": "stdout",
     "output_type": "stream",
     "text": [
      "berries\n",
      "clover\n",
      "campers\n"
     ]
    }
   ],
   "source": [
    "b = bear()\n",
    "r = rabbit()\n",
    "o = octothorpe()\n",
    "\n",
    "print(b.eat())\n",
    "print(r.eat())\n",
    "print(o.eat())"
   ]
  },
  {
   "cell_type": "markdown",
   "id": "8c113d42",
   "metadata": {},
   "source": [
    "### 10. Define these classes: Laser, Claw, and SmartPhone. Each has only one method: does(). This returns &#39;disintegrate&#39; (Laser), &#39;crush&#39; (Claw), or &#39;ring&#39; (SmartPhone). Then, define the class Robot that has one instance (object) of each of these. Define a does() method for the Robot that prints what its component objects do."
   ]
  },
  {
   "cell_type": "code",
   "execution_count": 58,
   "id": "f49e07a5",
   "metadata": {},
   "outputs": [
    {
     "name": "stdout",
     "output_type": "stream",
     "text": [
      "disintegrate crush ring\n"
     ]
    }
   ],
   "source": [
    "class laser:\n",
    "    def does(self):\n",
    "        return \"disintegrate\"\n",
    "    \n",
    "class claw:\n",
    "    def does(self):\n",
    "        return \"crush\"\n",
    "    \n",
    "class smartphone:\n",
    "    def does(self):\n",
    "        return \"ring\"\n",
    "    \n",
    "class robot:\n",
    "    def __init__(self, laser, claw, smartphone):\n",
    "        self.laser = laser\n",
    "        self.claw = claw\n",
    "        self.smartphone = smartphone\n",
    "    \n",
    "    def does(self):\n",
    "        print(self.laser.does(),self.claw.does(), self.smartphone.does())\n",
    "        \n",
    "l = laser()\n",
    "c = claw()\n",
    "s = smartphone()\n",
    "robot = robot(l,c,s)\n",
    "robot.does()\n",
    "    "
   ]
  }
 ],
 "metadata": {
  "kernelspec": {
   "display_name": "Python 3",
   "language": "python",
   "name": "python3"
  },
  "language_info": {
   "codemirror_mode": {
    "name": "ipython",
    "version": 3
   },
   "file_extension": ".py",
   "mimetype": "text/x-python",
   "name": "python",
   "nbconvert_exporter": "python",
   "pygments_lexer": "ipython3",
   "version": "3.8.5"
  }
 },
 "nbformat": 4,
 "nbformat_minor": 5
}
