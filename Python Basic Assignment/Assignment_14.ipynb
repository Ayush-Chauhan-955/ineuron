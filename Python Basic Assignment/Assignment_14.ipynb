{
 "cells": [
  {
   "cell_type": "markdown",
   "id": "e6ecbeab",
   "metadata": {},
   "source": [
    "### 1. What does RGBA stand for?"
   ]
  },
  {
   "cell_type": "markdown",
   "id": "76a84555",
   "metadata": {},
   "source": [
    "    An RGBA value is a group of numbers that specify the amount of red, green, blue, and alpha (or transparency) in a color."
   ]
  },
  {
   "cell_type": "markdown",
   "id": "47f784cd",
   "metadata": {},
   "source": [
    "### 2. From the Pillow module, how do you get the RGBA value of any images?"
   ]
  },
  {
   "cell_type": "markdown",
   "id": "c4b9672c",
   "metadata": {},
   "source": [
    "    ImageColor.getcolor() gives rgba value of any image."
   ]
  },
  {
   "cell_type": "markdown",
   "id": "78b8493b",
   "metadata": {},
   "source": [
    "### 3. What is a box tuple, and how does it work?"
   ]
  },
  {
   "cell_type": "markdown",
   "id": "97418350",
   "metadata": {},
   "source": [
    "    Box tuple is container of tuple of four integers where x-coordinate is represented by left edge, y-coordinate by top\n",
    "    edge width and height respectively."
   ]
  },
  {
   "cell_type": "markdown",
   "id": "462486da",
   "metadata": {},
   "source": [
    "### 4. Use your image and load in notebook then, How can you find out the width and height of an Image object?"
   ]
  },
  {
   "cell_type": "code",
   "execution_count": 6,
   "id": "4f305100",
   "metadata": {},
   "outputs": [],
   "source": [
    "from PIL import Image"
   ]
  },
  {
   "cell_type": "code",
   "execution_count": 8,
   "id": "b13a7bb9",
   "metadata": {},
   "outputs": [
    {
     "name": "stdout",
     "output_type": "stream",
     "text": [
      "width and height of image is 1280, 720 respectively\n"
     ]
    }
   ],
   "source": [
    "pic = PIL.Image.open('trial.jpg')\n",
    "width = pic.width\n",
    "height = pic.height\n",
    "\n",
    "print(\"width and height of image is {}, {} respectively\".format(width,height))"
   ]
  },
  {
   "cell_type": "markdown",
   "id": "5b6a9cd9",
   "metadata": {},
   "source": [
    "### 5. What method would you call to get Image object for a 100×100 image, excluding the lower-left quarter of it?"
   ]
  },
  {
   "cell_type": "markdown",
   "id": "2c636872",
   "metadata": {},
   "source": [
    "    imageObj.crop((0, 50, 50, 50))"
   ]
  },
  {
   "cell_type": "markdown",
   "id": "8d080f66",
   "metadata": {},
   "source": [
    "### 6. After making changes to an Image object, how could you save it as an image file?"
   ]
  },
  {
   "cell_type": "markdown",
   "id": "34725ae3",
   "metadata": {},
   "source": [
    "    imageObj.save('new_name.jpg')"
   ]
  },
  {
   "cell_type": "markdown",
   "id": "f5230d30",
   "metadata": {},
   "source": [
    "### 7. What module contains Pillow’s shape-drawing code?"
   ]
  },
  {
   "cell_type": "markdown",
   "id": "f1dcc9a0",
   "metadata": {},
   "source": [
    "    ImageDraw module"
   ]
  },
  {
   "cell_type": "markdown",
   "id": "61a64d64",
   "metadata": {},
   "source": [
    "### 8. Image objects do not have drawing methods. What kind of object does? How do you get this kind of object?"
   ]
  },
  {
   "cell_type": "markdown",
   "id": "f28e3f72",
   "metadata": {},
   "source": [
    "    They have shape drawing methods like line(), point(), rectangle()\n",
    "    we can call they by using ImageDraw.Draw() function."
   ]
  }
 ],
 "metadata": {
  "kernelspec": {
   "display_name": "Python 3",
   "language": "python",
   "name": "python3"
  },
  "language_info": {
   "codemirror_mode": {
    "name": "ipython",
    "version": 3
   },
   "file_extension": ".py",
   "mimetype": "text/x-python",
   "name": "python",
   "nbconvert_exporter": "python",
   "pygments_lexer": "ipython3",
   "version": "3.8.5"
  }
 },
 "nbformat": 4,
 "nbformat_minor": 5
}
