{
 "cells": [
  {
   "cell_type": "markdown",
   "id": "8511c88d",
   "metadata": {},
   "source": [
    "### 1. In what modes should the PdfFileReader() and PdfFileWriter() File objects will be opened?"
   ]
  },
  {
   "cell_type": "code",
   "execution_count": 6,
   "id": "6b2f7d9b",
   "metadata": {},
   "outputs": [],
   "source": [
    "import PyPDF2"
   ]
  },
  {
   "cell_type": "markdown",
   "id": "22237eb5",
   "metadata": {},
   "source": [
    "    PdfFileReader() -- it is used in 'rb' mode i.e. read binary\n",
    "    PdfFileWriter() -- it is used in 'wb' mode i.e. write binary"
   ]
  },
  {
   "cell_type": "markdown",
   "id": "02930420",
   "metadata": {},
   "source": [
    "### 2. From a PdfFileReader object, how do you get a Page object for page 5?"
   ]
  },
  {
   "cell_type": "markdown",
   "id": "b3be5548",
   "metadata": {},
   "source": [
    "    use getpage(5) method."
   ]
  },
  {
   "cell_type": "markdown",
   "id": "2e560d6a",
   "metadata": {},
   "source": [
    "### 3. What PdfFileReader variable stores the number of pages in the PDF document?"
   ]
  },
  {
   "cell_type": "markdown",
   "id": "49af8ef7",
   "metadata": {},
   "source": [
    "    numPages stores the total no of pages in a pdf"
   ]
  },
  {
   "cell_type": "markdown",
   "id": "d64738b9",
   "metadata": {},
   "source": [
    "### 4. If a PdfFileReader object’s PDF is encrypted with the password swordfish, what must you do before you can obtain Page objects from it?"
   ]
  },
  {
   "cell_type": "markdown",
   "id": "9d53104d",
   "metadata": {},
   "source": [
    "    step 1 - load pdf [ PyPDF2.PdfFileReader(open('encrypted.pdf', 'rb')) ]\n",
    "    step 2 - check weather it is encrypted [ pdf.isEncrypted ]\n",
    "    step 3 - if encrypted use [ pdf.decrypt('swordfish') ]"
   ]
  },
  {
   "cell_type": "markdown",
   "id": "8357fc78",
   "metadata": {},
   "source": [
    "### 5. What methods do you use to rotate a page?"
   ]
  },
  {
   "cell_type": "markdown",
   "id": "24cbee53",
   "metadata": {},
   "source": [
    "    For anticlockwise: rotateCounterClockwise() \n",
    "    for clockwise    : rotateClockwise()"
   ]
  },
  {
   "cell_type": "markdown",
   "id": "43695954",
   "metadata": {},
   "source": [
    "### 6. What is the difference between a Run object and a Paragraph object?"
   ]
  },
  {
   "cell_type": "markdown",
   "id": "52fdc478",
   "metadata": {},
   "source": [
    "    Word document contain formatted text wrapped within three object levels:\n",
    "        lowest level: run objects.\n",
    "        middle level: paragraph objects.\n",
    "        highest level: document object.\n",
    "        \n",
    "    Run Object is used for inline content, text, pictures and other items within a paragraph. "
   ]
  },
  {
   "cell_type": "markdown",
   "id": "902a219b",
   "metadata": {},
   "source": [
    "### 7. How do you obtain a list of Paragraph objects for a Document object that’s stored in a variable named doc? "
   ]
  },
  {
   "cell_type": "code",
   "execution_count": 8,
   "id": "94b0d5ae",
   "metadata": {},
   "outputs": [
    {
     "name": "stdout",
     "output_type": "stream",
     "text": [
      "Collecting python-docx\n",
      "  Downloading python-docx-0.8.10.tar.gz (5.5 MB)\n",
      "Requirement already satisfied: lxml>=2.3.2 in d:\\anaconda3\\lib\\site-packages (from python-docx) (4.6.3)\n",
      "Building wheels for collected packages: python-docx\n",
      "  Building wheel for python-docx (setup.py): started\n",
      "  Building wheel for python-docx (setup.py): finished with status 'done'\n",
      "  Created wheel for python-docx: filename=python_docx-0.8.10-py3-none-any.whl size=184489 sha256=f85bef15e1fe4f86cc80c013d5f49090e63407162096f2c50fe66f7f820b8cf6\n",
      "  Stored in directory: c:\\users\\rushikesh pokale\\appdata\\local\\pip\\cache\\wheels\\97\\4c\\2e\\68066cbf12b9b2e66403da8982aaf4f656d9f5cb5dc3179e82\n",
      "Successfully built python-docx\n",
      "Installing collected packages: python-docx\n",
      "Successfully installed python-docx-0.8.10\n",
      "Note: you may need to restart the kernel to use updated packages.\n"
     ]
    }
   ],
   "source": [
    "pip install python-docx"
   ]
  },
  {
   "cell_type": "code",
   "execution_count": 1,
   "id": "d34f2357",
   "metadata": {},
   "outputs": [],
   "source": [
    "import docx"
   ]
  },
  {
   "cell_type": "code",
   "execution_count": 4,
   "id": "727c7baf",
   "metadata": {},
   "outputs": [
    {
     "data": {
      "text/plain": [
       "6"
      ]
     },
     "execution_count": 4,
     "metadata": {},
     "output_type": "execute_result"
    }
   ],
   "source": [
    "d = docx.Document('trial.docx')\n",
    "len(d.paragraphs)"
   ]
  },
  {
   "cell_type": "markdown",
   "id": "c034c4a4",
   "metadata": {},
   "source": [
    "### 8. What type of object has bold, underline, italic, strike, and outline variables?"
   ]
  },
  {
   "cell_type": "markdown",
   "id": "a6a0889b",
   "metadata": {},
   "source": [
    "    Run object"
   ]
  },
  {
   "cell_type": "markdown",
   "id": "973aec83",
   "metadata": {},
   "source": [
    "### 9. What is the difference between False, True, and None for the bold variable?"
   ]
  },
  {
   "cell_type": "markdown",
   "id": "553710ce",
   "metadata": {},
   "source": [
    "    True = on\n",
    "    False = off\n",
    "    none = not available"
   ]
  },
  {
   "cell_type": "markdown",
   "id": "d305620b",
   "metadata": {},
   "source": [
    "### 10. How do you create a Document object for a new Word document?"
   ]
  },
  {
   "cell_type": "code",
   "execution_count": 7,
   "id": "c6d0bf00",
   "metadata": {},
   "outputs": [],
   "source": [
    "doc = docx.Document()\n",
    "doc.add_paragraph('world')\n",
    "doc.save('hello.docx')"
   ]
  },
  {
   "cell_type": "markdown",
   "id": "5b82b6c5",
   "metadata": {},
   "source": [
    "### 11. How do you add a paragraph with the text &#39;Hello, there!&#39; to a Document object stored in a variable named doc?"
   ]
  },
  {
   "cell_type": "code",
   "execution_count": 6,
   "id": "e24339d8",
   "metadata": {},
   "outputs": [],
   "source": [
    "doc = docx.Document()\n",
    "doc.add_paragraph('Hello,there!')\n",
    "doc.save('hellothere.docx')"
   ]
  },
  {
   "cell_type": "markdown",
   "id": "b947e872",
   "metadata": {},
   "source": [
    "### 12. What integers represent the levels of headings available in Word documents?"
   ]
  },
  {
   "cell_type": "markdown",
   "id": "98155ea9",
   "metadata": {},
   "source": [
    "    integers 1 to 4 are for various heading levels where 1 is main heading and 4 the lowest subheading."
   ]
  }
 ],
 "metadata": {
  "kernelspec": {
   "display_name": "Python 3",
   "language": "python",
   "name": "python3"
  },
  "language_info": {
   "codemirror_mode": {
    "name": "ipython",
    "version": 3
   },
   "file_extension": ".py",
   "mimetype": "text/x-python",
   "name": "python",
   "nbconvert_exporter": "python",
   "pygments_lexer": "ipython3",
   "version": "3.8.5"
  }
 },
 "nbformat": 4,
 "nbformat_minor": 5
}
